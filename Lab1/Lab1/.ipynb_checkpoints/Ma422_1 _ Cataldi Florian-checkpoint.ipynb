{
 "cells": [
  {
   "cell_type": "markdown",
   "metadata": {},
   "source": [
    "# <font color='black'>Introduction to Machine Learning</font>\n",
    "\n",
    "---\n",
    "\n",
    "<img src=\"images/ipsa_logo.png\" width=\"100\" align=\"right\">\n",
    "\n",
    "\n",
    "> Year: **2021**\n",
    "\n",
    "> Version: **3.0**\n",
    "\n",
    "\n",
    "## <font color='black'>Contents</font>\n",
    "\n",
    "---\n",
    " \n",
    "1. [Set-Up](#Set-Up)\n",
    "2. [Linear regression with one variable](#LinearRegression)\n",
    " * [Gradient Descent](#GD)\n",
    "3. [Linear regression with multiple variables](#LinearRegression2)\n",
    " * [Feature Scaling](#FeatureScaling)\n",
    " * [Gradient Descent](#GD2)\n",
    " * [Normal Equation](#NE)"
   ]
  },
  {
   "cell_type": "markdown",
   "metadata": {},
   "source": [
    "\n",
    "Welcome to the Intoduction to Machine Learning Course.\n",
    "\n",
    "The objective of this lab session is to code linear regression and to apply the algorithm to real data. You will predict how many times a Machine Learning article will be shared on Social Networks according to some of its characteristics.\n",
    "\n",
    "\n",
    "## <font color='black'>Set-Up</font>\n",
    "\n",
    "---\n",
    "\n",
    "First we will import the packages that we will need throughout the notebook."
   ]
  },
  {
   "cell_type": "code",
   "execution_count": 1,
   "metadata": {},
   "outputs": [],
   "source": [
    "# Tell Jupyter to display plots in this notebook.\n",
    "%matplotlib inline\n",
    "\n",
    "# Import the numpy package with the alias np.\n",
    "import numpy as np           \n",
    "import pandas as pd\n",
    "\n",
    "# Import the pyplot package from matplotlib with the alias plt.\n",
    "import matplotlib.pyplot as plt  \n",
    "import matplotlib.cm as cm\n",
    "from matplotlib import pylab\n",
    "pylab.rcParams['figure.figsize'] = (4, 4)"
   ]
  },
  {
   "cell_type": "markdown",
   "metadata": {},
   "source": [
    "## <font color='black'>Linear regression with one variable</font>\n",
    "\n",
    "---"
   ]
  },
  {
   "cell_type": "markdown",
   "metadata": {},
   "source": [
    "Before starting on any task, it is often useful to understand the data by visualizing them. "
   ]
  },
  {
   "cell_type": "code",
   "execution_count": 7,
   "metadata": {},
   "outputs": [],
   "source": [
    "# ======================= Load the data =======================\n",
    "data = data = pd.read_csv(\"articulos_ml.csv\")"
   ]
  },
  {
   "cell_type": "code",
   "execution_count": 8,
   "metadata": {},
   "outputs": [
    {
     "data": {
      "text/plain": [
       "(161, 8)"
      ]
     },
     "execution_count": 8,
     "metadata": {},
     "output_type": "execute_result"
    }
   ],
   "source": [
    "# ======================= Check the dimensions ================\n",
    "data.shape"
   ]
  },
  {
   "cell_type": "code",
   "execution_count": 9,
   "metadata": {},
   "outputs": [
    {
     "data": {
      "text/html": [
       "<div>\n",
       "<style scoped>\n",
       "    .dataframe tbody tr th:only-of-type {\n",
       "        vertical-align: middle;\n",
       "    }\n",
       "\n",
       "    .dataframe tbody tr th {\n",
       "        vertical-align: top;\n",
       "    }\n",
       "\n",
       "    .dataframe thead th {\n",
       "        text-align: right;\n",
       "    }\n",
       "</style>\n",
       "<table border=\"1\" class=\"dataframe\">\n",
       "  <thead>\n",
       "    <tr style=\"text-align: right;\">\n",
       "      <th></th>\n",
       "      <th>Title</th>\n",
       "      <th>url</th>\n",
       "      <th>Word count</th>\n",
       "      <th># of Links</th>\n",
       "      <th># of comments</th>\n",
       "      <th># Images video</th>\n",
       "      <th>Elapsed days</th>\n",
       "      <th># Shares</th>\n",
       "    </tr>\n",
       "  </thead>\n",
       "  <tbody>\n",
       "    <tr>\n",
       "      <th>0</th>\n",
       "      <td>What is Machine Learning and how do we use it ...</td>\n",
       "      <td>https://blog.signals.network/what-is-machine-l...</td>\n",
       "      <td>1888</td>\n",
       "      <td>1</td>\n",
       "      <td>2.0</td>\n",
       "      <td>2</td>\n",
       "      <td>34</td>\n",
       "      <td>200000</td>\n",
       "    </tr>\n",
       "    <tr>\n",
       "      <th>1</th>\n",
       "      <td>10 Companies Using Machine Learning in Cool Ways</td>\n",
       "      <td>NaN</td>\n",
       "      <td>1742</td>\n",
       "      <td>9</td>\n",
       "      <td>NaN</td>\n",
       "      <td>9</td>\n",
       "      <td>5</td>\n",
       "      <td>25000</td>\n",
       "    </tr>\n",
       "    <tr>\n",
       "      <th>2</th>\n",
       "      <td>How Artificial Intelligence Is Revolutionizing...</td>\n",
       "      <td>NaN</td>\n",
       "      <td>962</td>\n",
       "      <td>6</td>\n",
       "      <td>0.0</td>\n",
       "      <td>1</td>\n",
       "      <td>10</td>\n",
       "      <td>42000</td>\n",
       "    </tr>\n",
       "    <tr>\n",
       "      <th>3</th>\n",
       "      <td>Dbrain and the Blockchain of Artificial Intell...</td>\n",
       "      <td>NaN</td>\n",
       "      <td>1221</td>\n",
       "      <td>3</td>\n",
       "      <td>NaN</td>\n",
       "      <td>2</td>\n",
       "      <td>68</td>\n",
       "      <td>200000</td>\n",
       "    </tr>\n",
       "    <tr>\n",
       "      <th>4</th>\n",
       "      <td>Nasa finds entire solar system filled with eig...</td>\n",
       "      <td>NaN</td>\n",
       "      <td>2039</td>\n",
       "      <td>1</td>\n",
       "      <td>104.0</td>\n",
       "      <td>4</td>\n",
       "      <td>131</td>\n",
       "      <td>200000</td>\n",
       "    </tr>\n",
       "  </tbody>\n",
       "</table>\n",
       "</div>"
      ],
      "text/plain": [
       "                                               Title  \\\n",
       "0  What is Machine Learning and how do we use it ...   \n",
       "1   10 Companies Using Machine Learning in Cool Ways   \n",
       "2  How Artificial Intelligence Is Revolutionizing...   \n",
       "3  Dbrain and the Blockchain of Artificial Intell...   \n",
       "4  Nasa finds entire solar system filled with eig...   \n",
       "\n",
       "                                                 url  Word count  # of Links  \\\n",
       "0  https://blog.signals.network/what-is-machine-l...        1888           1   \n",
       "1                                                NaN        1742           9   \n",
       "2                                                NaN         962           6   \n",
       "3                                                NaN        1221           3   \n",
       "4                                                NaN        2039           1   \n",
       "\n",
       "   # of comments  # Images video  Elapsed days  # Shares  \n",
       "0            2.0               2            34    200000  \n",
       "1            NaN               9             5     25000  \n",
       "2            0.0               1            10     42000  \n",
       "3            NaN               2            68    200000  \n",
       "4          104.0               4           131    200000  "
      ]
     },
     "execution_count": 9,
     "metadata": {},
     "output_type": "execute_result"
    }
   ],
   "source": [
    "# ======================= Let's visualize the first rows\n",
    "data.head()"
   ]
  },
  {
   "cell_type": "markdown",
   "metadata": {},
   "source": [
    "Remark that some entries (as for instance in the comments column) are empty.\n",
    "\n",
    "In our case, the column Shares will correspond to the target value, y."
   ]
  },
  {
   "cell_type": "code",
   "execution_count": 10,
   "metadata": {},
   "outputs": [
    {
     "data": {
      "text/html": [
       "<div>\n",
       "<style scoped>\n",
       "    .dataframe tbody tr th:only-of-type {\n",
       "        vertical-align: middle;\n",
       "    }\n",
       "\n",
       "    .dataframe tbody tr th {\n",
       "        vertical-align: top;\n",
       "    }\n",
       "\n",
       "    .dataframe thead th {\n",
       "        text-align: right;\n",
       "    }\n",
       "</style>\n",
       "<table border=\"1\" class=\"dataframe\">\n",
       "  <thead>\n",
       "    <tr style=\"text-align: right;\">\n",
       "      <th></th>\n",
       "      <th>Word count</th>\n",
       "      <th># of Links</th>\n",
       "      <th># of comments</th>\n",
       "      <th># Images video</th>\n",
       "      <th>Elapsed days</th>\n",
       "      <th># Shares</th>\n",
       "    </tr>\n",
       "  </thead>\n",
       "  <tbody>\n",
       "    <tr>\n",
       "      <th>count</th>\n",
       "      <td>161.000000</td>\n",
       "      <td>161.000000</td>\n",
       "      <td>129.000000</td>\n",
       "      <td>161.000000</td>\n",
       "      <td>161.000000</td>\n",
       "      <td>161.000000</td>\n",
       "    </tr>\n",
       "    <tr>\n",
       "      <th>mean</th>\n",
       "      <td>1808.260870</td>\n",
       "      <td>9.739130</td>\n",
       "      <td>8.782946</td>\n",
       "      <td>3.670807</td>\n",
       "      <td>98.124224</td>\n",
       "      <td>27948.347826</td>\n",
       "    </tr>\n",
       "    <tr>\n",
       "      <th>std</th>\n",
       "      <td>1141.919385</td>\n",
       "      <td>47.271625</td>\n",
       "      <td>13.142822</td>\n",
       "      <td>3.418290</td>\n",
       "      <td>114.337535</td>\n",
       "      <td>43408.006839</td>\n",
       "    </tr>\n",
       "    <tr>\n",
       "      <th>min</th>\n",
       "      <td>250.000000</td>\n",
       "      <td>0.000000</td>\n",
       "      <td>0.000000</td>\n",
       "      <td>1.000000</td>\n",
       "      <td>1.000000</td>\n",
       "      <td>0.000000</td>\n",
       "    </tr>\n",
       "    <tr>\n",
       "      <th>25%</th>\n",
       "      <td>990.000000</td>\n",
       "      <td>3.000000</td>\n",
       "      <td>2.000000</td>\n",
       "      <td>1.000000</td>\n",
       "      <td>31.000000</td>\n",
       "      <td>2800.000000</td>\n",
       "    </tr>\n",
       "    <tr>\n",
       "      <th>50%</th>\n",
       "      <td>1674.000000</td>\n",
       "      <td>5.000000</td>\n",
       "      <td>6.000000</td>\n",
       "      <td>3.000000</td>\n",
       "      <td>62.000000</td>\n",
       "      <td>16458.000000</td>\n",
       "    </tr>\n",
       "    <tr>\n",
       "      <th>75%</th>\n",
       "      <td>2369.000000</td>\n",
       "      <td>7.000000</td>\n",
       "      <td>12.000000</td>\n",
       "      <td>5.000000</td>\n",
       "      <td>124.000000</td>\n",
       "      <td>35691.000000</td>\n",
       "    </tr>\n",
       "    <tr>\n",
       "      <th>max</th>\n",
       "      <td>8401.000000</td>\n",
       "      <td>600.000000</td>\n",
       "      <td>104.000000</td>\n",
       "      <td>22.000000</td>\n",
       "      <td>1002.000000</td>\n",
       "      <td>350000.000000</td>\n",
       "    </tr>\n",
       "  </tbody>\n",
       "</table>\n",
       "</div>"
      ],
      "text/plain": [
       "        Word count  # of Links  # of comments  # Images video  Elapsed days  \\\n",
       "count   161.000000  161.000000     129.000000      161.000000    161.000000   \n",
       "mean   1808.260870    9.739130       8.782946        3.670807     98.124224   \n",
       "std    1141.919385   47.271625      13.142822        3.418290    114.337535   \n",
       "min     250.000000    0.000000       0.000000        1.000000      1.000000   \n",
       "25%     990.000000    3.000000       2.000000        1.000000     31.000000   \n",
       "50%    1674.000000    5.000000       6.000000        3.000000     62.000000   \n",
       "75%    2369.000000    7.000000      12.000000        5.000000    124.000000   \n",
       "max    8401.000000  600.000000     104.000000       22.000000   1002.000000   \n",
       "\n",
       "            # Shares  \n",
       "count     161.000000  \n",
       "mean    27948.347826  \n",
       "std     43408.006839  \n",
       "min         0.000000  \n",
       "25%      2800.000000  \n",
       "50%     16458.000000  \n",
       "75%     35691.000000  \n",
       "max    350000.000000  "
      ]
     },
     "execution_count": 10,
     "metadata": {},
     "output_type": "execute_result"
    }
   ],
   "source": [
    "# ======================= Display some statistics from the dataset =======================\n",
    "data.describe()"
   ]
  },
  {
   "cell_type": "markdown",
   "metadata": {},
   "source": [
    "In this table, we can read that the the mean number of words is 1808.\n",
    "There is an article with a minimum of 250 words and a maximum of 8401.\n",
    "\n",
    "Concerning the outputs, the minimum is 0 times shared and the maximum is shared 350000."
   ]
  },
  {
   "cell_type": "markdown",
   "metadata": {},
   "source": [
    "### Visualizaze the Word count vs. #Shares"
   ]
  },
  {
   "cell_type": "code",
   "execution_count": 11,
   "metadata": {},
   "outputs": [
    {
     "data": {
      "image/png": "[encoded data removed]",
      "text/plain": [
       "<Figure size 288x288 with 1 Axes>"
      ]
     },
     "metadata": {
      "needs_background": "light"
     },
     "output_type": "display_data"
    }
   ],
   "source": [
    "f1 = data['Word count'].values\n",
    "f2 = data['# Shares'].values\n",
    "    \n",
    "plt.scatter(f1, f2, c='b')\n",
    "plt.xlabel(\"Word count\")\n",
    "plt.ylabel(\"#Shares\")\n",
    "plt.show()"
   ]
  },
  {
   "cell_type": "code",
   "execution_count": 12,
   "metadata": {},
   "outputs": [
    {
     "data": {
      "image/png": "[encoded data removed]",
      "text/plain": [
       "<Figure size 288x288 with 1 Axes>"
      ]
     },
     "metadata": {
      "needs_background": "light"
     },
     "output_type": "display_data"
    }
   ],
   "source": [
    "# We apply a cut to the oringal dataset\n",
    "filtered_data = data[(data['Word count'] <= 3500) & (data['# Shares'] <= 80000)]\n",
    "\n",
    "f1 = filtered_data['Word count'].values\n",
    "f2 = filtered_data['# Shares'].values\n",
    "    \n",
    "plt.scatter(f1, f2, c='b')\n",
    "plt.xlabel(\"Word count\")\n",
    "plt.ylabel(\"#Shares\")\n",
    "plt.show()"
   ]
  },
  {
   "cell_type": "markdown",
   "metadata": {},
   "source": [
    "We will analyze the resulting dataset."
   ]
  },
  {
   "cell_type": "code",
   "execution_count": 13,
   "metadata": {},
   "outputs": [],
   "source": [
    "dataX =filtered_data[[\"Word count\"]]\n",
    "X = np.array(dataX)\n",
    "y = filtered_data['# Shares'].values"
   ]
  },
  {
   "cell_type": "markdown",
   "metadata": {},
   "source": [
    "### <font color='black'> Gradiend Descent</font>"
   ]
  },
  {
   "cell_type": "markdown",
   "metadata": {},
   "source": [
    "In this part, you will fit the linear regression parameters $\\theta$ to the dataset using gradient descent.\n",
    "\n",
    "Recall that the parameters of your model are the $\\theta_j$ values. These are the values you will adjust to minimize cost $J(\\theta)$. \n",
    "\n",
    "In the following lines, we add another dimension to our data to account for the $\\theta_0$ intercept term. We also initialize the parameters to 0 and the learning rate $\\alpha$ to 0.01."
   ]
  },
  {
   "cell_type": "code",
   "execution_count": 14,
   "metadata": {},
   "outputs": [],
   "source": [
    "# =================== Cost and Gradient descent ===================\n",
    "\n",
    "# Setup the data matrix appropriately, and add ones for the intercept term\n",
    "m, n = X.shape\n",
    "\n",
    "# Add intercept term to X\n",
    "X = np.concatenate([np.ones((m, 1)), X], axis=1)\n",
    "theta = np.zeros(2); # initialize fitting parameters"
   ]
  },
  {
   "cell_type": "markdown",
   "metadata": {},
   "source": [
    "As you perform gradient descent to learn minimize the cost function $J(\\theta)$, it is helpful to monitor the convergence by computing the cost. \n",
    "\n",
    "Firstly you will implement a function to calculate $J(\\theta)$ so you can check the convergence of your gradient descent.\n",
    "\n",
    "Complete the function below that computes $J(\\theta)$. \n",
    "Once you have completed the function, the next step will run computeCost once using $\\theta$ initialized to zeros, and you will see the cost printed to the screen."
   ]
  },
  {
   "cell_type": "code",
   "execution_count": 15,
   "metadata": {},
   "outputs": [],
   "source": [
    "def computeCost(X, y, theta):\n",
    "    #COMPUTECOST Compute cost for linear regression\n",
    "    #   using theta as the parameter for linear regression to fit the data points in X and y\n",
    "    \n",
    "    # Initialize some useful values\n",
    "    m = y.shape[0] # number of training examples\n",
    "\n",
    "    #You need to return the following variables correctly \n",
    "    J = 0;\n",
    "    \n",
    "    # ============================================================\n",
    "    # theta[0] + somme(theta[i]*X[i]) + epsilon\n",
    "    \"\"\"\n",
    "    for i in range(0,m):\n",
    "        h = theta[0] + theta[1]*X[i,1]\n",
    "        J += (h - y[i])**2\n",
    "    \n",
    "    J = J/(2*m)\n",
    "    print(J)\n",
    "    \"\"\"\n",
    "    h = np.dot(X, theta)\n",
    "    J = np.dot((h-y), (h-y).T)\n",
    "    \n",
    "    J = J/(2*m)\n",
    "    # ============================================================\n",
    "    return J"
   ]
  },
  {
   "cell_type": "code",
   "execution_count": 16,
   "metadata": {},
   "outputs": [
    {
     "name": "stdout",
     "output_type": "stream",
     "text": [
      "With theta = [0 ; 0] Cost computed =  408398897.7635135\n",
      "Expected cost value (approx) 408398897.763\n",
      "\n"
     ]
    }
   ],
   "source": [
    "J = computeCost(X, y, theta);\n",
    "\n",
    "print('With theta = [0 ; 0] Cost computed = ' , J);\n",
    "print('Expected cost value (approx) 408398897.763\\n');"
   ]
  },
  {
   "cell_type": "markdown",
   "metadata": {},
   "source": [
    "Next, you will implement gradient descent. The loop structure has already been written. You only need to supply the updates to $\\theta$ within each iteration.\n",
    "\n",
    "A good way to verify that gradient descent is working is to look at the value of $J(\\theta)$ and check that it is decreasing with each step. The code calls computeCost on every iteration and prints the cost. If you have implemented gradient descent and computeCost correctly, your value of $J(\\theta)$ should never increase, and should converge to a  value by the end of the algorithm.\n",
    "\n",
    "After you have finished, you will use the final parameters to plot the linear fit. "
   ]
  },
  {
   "cell_type": "code",
   "execution_count": 17,
   "metadata": {},
   "outputs": [],
   "source": [
    "def gradientDescent(X, y, theta, alpha, num_iters):\n",
    "    \n",
    "    # Initialize some useful values\n",
    "    m = y.shape[0]  # number of training examples\n",
    "    \n",
    "    # make a copy of theta, to avoid changing the original array, since numpy arrays\n",
    "    # are passed by reference to functions\n",
    "    theta = theta.copy()\n",
    "    \n",
    "    J_history = [] # Use a python list to save cost in every iteration\n",
    "    \n",
    "    for i in range(num_iters):\n",
    "        # ====================================================================\n",
    "        deriv = np.dot(X.T, np.dot(X, theta)-y)/m\n",
    "        \n",
    "        theta -= alpha*deriv\n",
    "        # =====================================================================\n",
    "        \n",
    "        # save the cost J in every iteration\n",
    "        J_history.append(computeCost(X, y, theta))\n",
    "    \n",
    "    return theta, J_history                         "
   ]
  },
  {
   "cell_type": "code",
   "execution_count": 18,
   "metadata": {},
   "outputs": [
    {
     "name": "stdout",
     "output_type": "stream",
     "text": [
      "Theta found by gradient descent:\n",
      "\n",
      "[ 0.02780782 11.16293235]\n",
      "Expected theta values (approx)\n",
      "\n",
      " 0.0278\n",
      "  11.162\n",
      "\n",
      "\n"
     ]
    }
   ],
   "source": [
    "theta = np.zeros(2); # initialize fitting parameters\n",
    "\n",
    "# Some gradient descent settings\n",
    "iterations = 1000;\n",
    "alpha = 1e-8;\n",
    "\n",
    "theta, J = gradientDescent(X, y, theta, alpha, iterations);\n",
    "\n",
    "print('Theta found by gradient descent:\\n');\n",
    "print(theta);\n",
    "print('Expected theta values (approx)\\n');\n",
    "print(' 0.0278\\n  11.162\\n\\n');"
   ]
  },
  {
   "cell_type": "markdown",
   "metadata": {},
   "source": [
    "## <font color='black'> Linear regression with multiple variables</font>\n",
    "\n",
    "In this part, you will implement linear regression with multiple variables to predict the number of shares of a machine learning article. We will create a new variable that is the sum of the links, comments and images."
   ]
  },
  {
   "cell_type": "code",
   "execution_count": 19,
   "metadata": {},
   "outputs": [],
   "source": [
    "# ======================= Load the data =======================\n",
    "\n",
    "suma = (filtered_data[\"# of Links\"] + filtered_data['# of comments'].fillna(0) + filtered_data['# Images video'])\n",
    "\n",
    "dataX2 =  pd.DataFrame()\n",
    "dataX2[\"Word count\"] = filtered_data[\"Word count\"]\n",
    "dataX2[\"suma\"] = suma\n",
    "X = np.array(dataX2)\n",
    "y = filtered_data['# Shares'].values\n",
    "\n",
    "m = y.shape[0] # number of training examples"
   ]
  },
  {
   "cell_type": "markdown",
   "metadata": {
    "scrolled": true
   },
   "source": [
    "### <font color='black'> Feature Scaling</font>\n",
    "\n",
    "By looking at the values, note that the word count are about 1000 times the sum of the other variables. When features differ by orders of magnitude, performing feature scaling can make gradient descent converge much more quickly.\n",
    "\n",
    "You need to fill the cell below to perform feature scaling.\n",
    "- Subtract the mean value of each feature from the dataset.\n",
    "- After subtracting the mean, additionally scale (divide) the feature values by their respective “standard deviation\".\n",
    "\n",
    "When normalizing the features, it is important to store the values used for normalization - the mean value and the standard deviation. \n",
    "\n",
    "Given a new input x, we must first normalize x using the mean and standard deviation that we had previously computed from the training set."
   ]
  },
  {
   "cell_type": "code",
   "execution_count": 20,
   "metadata": {},
   "outputs": [],
   "source": [
    "def featureNormalize(X):\n",
    "    #FEATURENORMALIZE Normalizes the features in X \n",
    "    #   FEATURENORMALIZE(X) returns a normalized version of X where\n",
    "    #   the mean value of each feature is 0 and the standard deviation\n",
    "    #   is 1. This is often a good preprocessing step to do when\n",
    "    #   working with learning algorithms.\n",
    "\n",
    "    # You need to set these values correctly\n",
    "    X_norm = X.copy()\n",
    "    mu = np.zeros(X.shape[1])\n",
    "    sigma = np.zeros(X.shape[1])\n",
    "\n",
    "    # ===========================================================\n",
    "    mu = X.sum(axis=0)/X.shape[0]\n",
    "    \n",
    "    sigma = np.std(X, axis=0)\n",
    "    \n",
    "    X_norm = (X - mu)/sigma\n",
    "    # ============================================================\n",
    "\n",
    "    return X_norm, mu, sigma"
   ]
  },
  {
   "cell_type": "code",
   "execution_count": 21,
   "metadata": {},
   "outputs": [],
   "source": [
    "X_norm, mu, sigma = featureNormalize(X);\n",
    "\n",
    "#Add intercept term to X\n",
    "X = np.concatenate([np.ones((m, 1)), X_norm], axis=1)"
   ]
  },
  {
   "cell_type": "markdown",
   "metadata": {},
   "source": [
    "### <font color='black'> Gradient Descent</font>\n",
    "\n",
    "\n",
    "Previously, you implemented gradient descent on a univariate regression problem. The only difference now is that there is one more feature in the matrix X. \n",
    "\n",
    "The hypothesis function and the batch gradient descent update rule remain unchanged.\n",
    "If your code in the previous part (single variable) already supports multiple variables, you can use it here too."
   ]
  },
  {
   "cell_type": "code",
   "execution_count": 22,
   "metadata": {
    "scrolled": true
   },
   "outputs": [],
   "source": [
    "def computeCostMulti(X, y, theta):\n",
    "\n",
    "    # Initialize some useful values\n",
    "    m = y.shape[0] # number of training examples\n",
    "    \n",
    "    # You need to return the following variable correctly\n",
    "    J = 0\n",
    "    \n",
    "    # ===============================================================\n",
    "    h = np.dot(X, theta)\n",
    "    J = np.dot((h-y), (h-y).T)\n",
    "    \n",
    "    J = J/(2*m)\n",
    "    # ==================================================================\n",
    "    return J"
   ]
  },
  {
   "cell_type": "code",
   "execution_count": 23,
   "metadata": {},
   "outputs": [],
   "source": [
    "def gradientDescentMulti(X, y, theta, alpha, num_iters):\n",
    "    #GRADIENTDESCENTMULTI Performs gradient descent to learn theta\n",
    "    #   theta = GRADIENTDESCENTMULTI(x, y, theta, alpha, num_iters) updates theta by\n",
    "    #   taking num_iters gradient steps with learning rate alpha\n",
    "    \n",
    "    # Initialize some useful values\n",
    "    m = y.shape[0] # number of training examples\n",
    "    \n",
    "    # make a copy of theta, which will be updated by gradient descent\n",
    "    theta = theta.copy()\n",
    "    \n",
    "    J_history = []\n",
    "        \n",
    "    for i in range(num_iters):\n",
    "    \n",
    "        # =============================================================\n",
    "        deriv = np.dot(X.T, np.dot(X, theta)-y)/m\n",
    "        \n",
    "        theta -= alpha*deriv\n",
    "        # ==============================================================\n",
    "\n",
    "        # Save the cost J in every iteration    \n",
    "        J_history.append(computeCostMulti(X, y, theta))\n",
    "\n",
    "    return theta, J_history"
   ]
  },
  {
   "cell_type": "code",
   "execution_count": 24,
   "metadata": {},
   "outputs": [
    {
     "name": "stdout",
     "output_type": "stream",
     "text": [
      "Dernière valeur : 176061639.739685\n",
      "Minimum : 176061639.739685\n"
     ]
    }
   ],
   "source": [
    "# ================ Gradient Descent ================\n",
    "\n",
    "# Choose some alpha value\n",
    "alpha = 1.71;\n",
    "num_iters = 500;\n",
    "\n",
    "# Init Theta and Run Gradient Descent \n",
    "theta = np.zeros(3);\n",
    "\n",
    "theta, J_history = gradientDescentMulti(X, y, theta, alpha, num_iters);\n",
    "print(\"Dernière valeur : {}\".format(J_history[len(J_history)-1]))\n",
    "print(\"Minimum : {}\".format(min(J_history)))"
   ]
  },
  {
   "cell_type": "markdown",
   "metadata": {},
   "source": [
    "Now you will to try out different learning rates for the dataset and find a learning rate that converges quickly. You can change the learning rate by modifying the variable above and changing the part of the code that sets the learning rate.\n",
    "\n",
    "The cell bellow plots the values of $J(\\theta)$ against the number of the iterations.\n",
    "If you picked a good value for the learning rate, the cost will decrease in every iteration. If the value of J($\\theta$) increases, adjust your learning rate and try again. You may also want to adjust the number of iterations you are running if that will help you see the overall trend in the curve."
   ]
  },
  {
   "cell_type": "code",
   "execution_count": 25,
   "metadata": {},
   "outputs": [
    {
     "data": {
      "image/png": "[encoded data removed]",
      "text/plain": [
       "<Figure size 288x288 with 1 Axes>"
      ]
     },
     "metadata": {
      "needs_background": "light"
     },
     "output_type": "display_data"
    }
   ],
   "source": [
    "plt.figure()\n",
    "plt.plot(np.arange(0,num_iters), J_history, '-b');\n",
    "plt.xlabel('Number of iterations');\n",
    "plt.ylabel('Cost J');"
   ]
  },
  {
   "cell_type": "markdown",
   "metadata": {},
   "source": [
    "Notice the changes in the convergence curves as the learning rate changes. With a small learning rate, you should find that gradient descent takes a very long time to converge to the optimal value. Conversely, with a large learning rate, gradient descent might not converge or might even diverge.\n",
    "\n",
    "Using the best learning rate that you found, run the script to run gradient descent until convergence to find the final values of $\\theta$. Next, use this value to predict the number of shares of an article with 515 words and sum 7.  Don’t forget to normalize the features when you make this prediction.\n"
   ]
  },
  {
   "cell_type": "code",
   "execution_count": 26,
   "metadata": {},
   "outputs": [
    {
     "name": "stdout",
     "output_type": "stream",
     "text": [
      "Theta computed from gradient descent: \n",
      "\n",
      "[20545.64864865  5418.9339627  -4634.91167153]\n"
     ]
    }
   ],
   "source": [
    "# Display gradient descent's result\n",
    "print('Theta computed from gradient descent: \\n');\n",
    "print(theta);"
   ]
  },
  {
   "cell_type": "code",
   "execution_count": 27,
   "metadata": {},
   "outputs": [
    {
     "name": "stdout",
     "output_type": "stream",
     "text": [
      "Predicted number of shares: \n",
      " 17034\n",
      "True number of shares: 27000\n"
     ]
    }
   ],
   "source": [
    "# Predict the value of a a new input x = [515, 7]\n",
    "u = np.array([[515,7]])\n",
    "X = np.array(dataX2)\n",
    "# ===========================================================\n",
    "# Recall you need to add the column of ones and normalize the input vector\n",
    "\n",
    "X_ = np.concatenate([X, u], axis=0)\n",
    "x_norm = featureNormalize(X_)[0][X_.shape[0]-1,:]\n",
    "\n",
    "x_ = np.concatenate([np.ones((1, 1)), [x_norm]], axis=1)\n",
    "\n",
    "shares = int(np.dot(x_, theta)[0])\n",
    "\n",
    "# ============================================================\n",
    "\n",
    "print('Predicted number of shares: \\n', shares)\n",
    "print('True number of shares: 27000')"
   ]
  },
  {
   "cell_type": "markdown",
   "metadata": {},
   "source": [
    "### Normal Equations\n",
    "\n",
    "\n",
    "We have seen that the closed-form solution to linear regression is\n",
    "\n",
    "$$ \\theta = \\left( X^T X\\right)^{-1} X^T {y}$$\n",
    "\n",
    "Using this formula does not require any feature scaling, and you will get an exact solution in one calculation: there is no \"loop until convergence” like in gradient descent.\n",
    "Complete the code below to use the formula to calculate $\\theta$. Remember that while you don’t need to scale your features, we still need to add a column of 1’s to the X matrix to have an intercept term ($\\theta_0$). "
   ]
  },
  {
   "cell_type": "code",
   "execution_count": 28,
   "metadata": {},
   "outputs": [],
   "source": [
    "# ================ Normal Equations ================\n",
    "\n",
    "# Load Data\n",
    "suma = (filtered_data[\"# of Links\"] + filtered_data['# of comments'].fillna(0) + filtered_data['# Images video'])\n",
    "\n",
    "dataX2 =  pd.DataFrame()\n",
    "dataX2[\"Word count\"] = filtered_data[\"Word count\"]\n",
    "dataX2[\"suma\"] = suma\n",
    "X = np.array(dataX2)\n",
    "y = filtered_data['# Shares'].values\n",
    "\n",
    "m = y.shape[0] # number of training examples\n",
    "\n",
    "# Add intercept term to X\n",
    "X = np.concatenate([np.ones((m, 1)), X], axis=1)"
   ]
  },
  {
   "cell_type": "markdown",
   "metadata": {},
   "source": [
    "Complete the cell below for the function `normalEqn`. You should use the formula above to calculate $\\theta$. "
   ]
  },
  {
   "cell_type": "code",
   "execution_count": 29,
   "metadata": {},
   "outputs": [],
   "source": [
    "def normalEqn(X, y):\n",
    "    theta = np.zeros(X.shape[1])\n",
    "    \n",
    "    # ================================================================\n",
    "    theta = (np.linalg.inv(X.T@X))@X.T@y\n",
    "    # =================================================================\n",
    "    return theta"
   ]
  },
  {
   "cell_type": "code",
   "execution_count": 30,
   "metadata": {},
   "outputs": [
    {
     "name": "stdout",
     "output_type": "stream",
     "text": [
      "Theta computed from the normal equation : \n",
      "\n",
      "[ 1.69218911e+04  6.63216324e+00 -4.83407538e+02]\n"
     ]
    }
   ],
   "source": [
    "# Calculate the parameters from the normal equation\n",
    "theta = normalEqn(X, y);\n",
    "\n",
    "#Display normal equation's result\n",
    "print('Theta computed from the normal equation : \\n');\n",
    "print(theta);"
   ]
  },
  {
   "cell_type": "code",
   "execution_count": 31,
   "metadata": {},
   "outputs": [
    {
     "name": "stdout",
     "output_type": "stream",
     "text": [
      "Predicted number of shares: (using normal equations)\n",
      " 17315\n",
      "True number of shares: 27000\n"
     ]
    }
   ],
   "source": [
    "# Predict the value of a a new input x = [515, 7]\n",
    "u = np.array([[515,7]])\n",
    "X = np.array(dataX2)\n",
    "# ===========================================================\n",
    "# Recall you need to add the column of ones and normalize the input vector\n",
    "\n",
    "X_ = np.concatenate([X, u], axis=0)\n",
    "x_norm = featureNormalize(X_)[0][X_.shape[0]-1,:]\n",
    "\n",
    "x_ = np.concatenate([np.ones((1, 1)), [x_norm]], axis=1)\n",
    "\n",
    "shares = int(np.dot(x_, theta)[0])\n",
    "\n",
    "# ============================================================\n",
    "\n",
    "print('Predicted number of shares: (using normal equations)\\n', shares)\n",
    "print('True number of shares: 27000')"
   ]
  },
  {
   "cell_type": "code",
   "execution_count": null,
   "metadata": {},
   "outputs": [],
   "source": []
  },
  {
   "cell_type": "code",
   "execution_count": null,
   "metadata": {},
   "outputs": [],
   "source": []
  }
 ],
 "metadata": {
  "anaconda-cloud": {},
  "kernelspec": {
   "display_name": "Python 3",
   "language": "python",
   "name": "python3"
  },
  "language_info": {
   "codemirror_mode": {
    "name": "ipython",
    "version": 3
   },
   "file_extension": ".py",
   "mimetype": "text/x-python",
   "name": "python",
   "nbconvert_exporter": "python",
   "pygments_lexer": "ipython3",
   "version": "3.7.6"
  }
 },
 "nbformat": 4,
 "nbformat_minor": 1
}
