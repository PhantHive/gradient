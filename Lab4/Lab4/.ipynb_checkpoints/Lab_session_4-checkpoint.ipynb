{
 "cells": [
  {
   "cell_type": "markdown",
   "metadata": {},
   "source": [
    "<img src=\"images/ipsa_logo.png\" width=\"100\" align=\"right\">\n",
    "\n",
    "# Ma422- 2022/2023\n",
    "\n",
    "# <font color='black'> Introduction to Machine Learning</font>\n",
    "\n",
    "---\n",
    "\n",
    "1. [K-means clustering from scratch](#NN)\n",
    "  \n",
    "3. [K-means clustering with scikit-learn](#logit)\n",
    "\n",
    "---"
   ]
  },
  {
   "cell_type": "markdown",
   "metadata": {},
   "source": [
    "The work has to be done in groups of 4 maximum. Each notebook must include student names below:\n",
    "#### Students:   "
   ]
  },
  {
   "cell_type": "markdown",
   "metadata": {},
   "source": [
    "## <font color='black'>Exercise 1: K-means clustering from scratch</font>\n",
    "\n",
    "---\n",
    "\n",
    "The objective of this exercise is to introduce and code the k-means clustering algorithm."
   ]
  },
  {
   "cell_type": "markdown",
   "metadata": {},
   "source": [
    "\n",
    "First we will import the packages that we will need throughout the exercise."
   ]
  },
  {
   "cell_type": "code",
   "execution_count": 1,
   "metadata": {},
   "outputs": [],
   "source": [
    "import os\n",
    "import numpy as np\n",
    "import re\n",
    "\n",
    "from matplotlib import pyplot\n",
    "from mpl_toolkits.mplot3d import Axes3D\n",
    "import matplotlib as mpl\n",
    "\n",
    "from IPython.display import HTML, display, clear_output\n",
    "\n",
    "try:\n",
    "    pyplot.rcParams[\"animation.html\"] = \"jshtml\"\n",
    "except ValueError:\n",
    "    pyplot.rcParams[\"animation.html\"] = \"html5\"\n",
    "\n",
    "from scipy import optimize\n",
    "from scipy.io import loadmat\n",
    "import utils\n",
    "\n",
    "\n",
    "\n",
    "%load_ext autoreload\n",
    "%autoreload 2\n",
    "\n",
    "# tells matplotlib to embed plots within the notebook\n",
    "%matplotlib inline"
   ]
  },
  {
   "cell_type": "markdown",
   "metadata": {},
   "source": [
    "We will implement the algorithm for a 2D dataset.\n",
    "\n",
    "\n",
    "### Implementation\n",
    "\n",
    "K-means is an algorithm to automatically cluster data examples that are similar together. Notably, for a given training set $\\{x^{(1)} , \\cdots, x^{(m)}\\}$ (where $x^{(i)} \\in \\mathbb{R}^n$), the goal is to define the clusters. The algorithm initializes randomly the centroids, and then it asigns the examples to the cluster corresponding to the closest centroids and then recomputes the centroids. \n",
    "\n",
    "\n",
    "The K-means algorithm is as follows:\n",
    "\n",
    "```python\n",
    "centroids = kMeansInitCentroids(X, K)\n",
    "for i in range(iterations):\n",
    "    # Cluster assignment step: Assign each data point to the\n",
    "    # closest centroid. idx[i] corresponds to cˆ(i), the index\n",
    "    # of the centroid assigned to example i\n",
    "    idx = findClosestCentroids(X, centroids)\n",
    "    # Move centroid step: Compute means based on centroid\n",
    "    # assignments\n",
    "    centroids = computeMeans(X, idx, K)\n",
    "```\n",
    "\n",
    "Note that the final solution depends on the initial setting of the centroids. One way to choose between these different solutions from different random initializations is to choose the one with the lowest cost function value (distortion)."
   ]
  },
  {
   "cell_type": "markdown",
   "metadata": {},
   "source": [
    "#### Determine the closest centroids\n",
    "\n",
    "Complete the code in the function `findClosestCentroids`. This function takes the data matrix `X` and the locations of all centroids inside `centroids` and outputs a vector `idx` that holds the index of the closest centroid to every training example.\n",
    "\n",
    "In this case, you can implement this using a loop over every training example and every centroid."
   ]
  },
  {
   "cell_type": "code",
   "execution_count": null,
   "metadata": {},
   "outputs": [],
   "source": [
    "#EDIT THIS CELL\n",
    "def findClosestCentroids(X, centroids):\n",
    "    # Set the number of clusters\n",
    "    K = centroids.shape[0]\n",
    "\n",
    "    # The centroids are in the following variable\n",
    "    idx = np.zeros(X.shape[0], dtype=int)\n",
    "\n",
    "    # ====================== YOUR CODE HERE ======================\n",
    "  \n",
    "\n",
    "    # =============================================================\n",
    "    return idx"
   ]
  },
  {
   "cell_type": "markdown",
   "metadata": {},
   "source": [
    "Once you have completed the code in `findClosestCentroids`, the following cell will run your code and you should see the output `[0 2 1]` corresponding to the centroid assignments for the first 3 examples."
   ]
  },
  {
   "cell_type": "code",
   "execution_count": null,
   "metadata": {},
   "outputs": [],
   "source": [
    "data = loadmat(os.path.join('data', 'ex7data2.mat'))\n",
    "X = data['X']\n",
    "\n",
    "K = 3   # 3 Centroids\n",
    "initial_centroids = np.array([[3, 3], [6, 2], [8, 5]])\n",
    "idx = findClosestCentroids(X, initial_centroids)\n",
    "print(idx)\n",
    "print('Closest centroids for the first 3 examples:')\n",
    "print(idx[:3])\n",
    "print('(the closest centroids should be 0, 2, 1 respectively)')"
   ]
  },
  {
   "cell_type": "markdown",
   "metadata": {},
   "source": [
    "### Computing centroid means\n",
    "\n",
    "Once the algorithm has performed assignments of every point to a centroid, the second part updates, for each centroid, the mean of the points that were assigned to it. \n",
    "\n",
    "Complete then the function `computeCentroids`. You can implement this function using a loop over the centroids."
   ]
  },
  {
   "cell_type": "code",
   "execution_count": null,
   "metadata": {},
   "outputs": [],
   "source": [
    "#EDIT THIS CELL\n",
    "def computeCentroids(X, idx, K):\n",
    "    m, n = X.shape\n",
    "    # The centroids are in the following variable\n",
    "    centroids = np.zeros((K, n))\n",
    "\n",
    "    # ====================== YOUR CODE HERE =======================\n",
    "   \n",
    "    # =============================================================\n",
    "    return centroids"
   ]
  },
  {
   "cell_type": "markdown",
   "metadata": {},
   "source": [
    "Check your implementation by running the following cell."
   ]
  },
  {
   "cell_type": "code",
   "execution_count": null,
   "metadata": {},
   "outputs": [],
   "source": [
    "centroids = computeCentroids(X, idx, K)\n",
    "\n",
    "print('Centroids computed after initial finding of closest centroids:')\n",
    "print(centroids)\n",
    "print('\\nThe centroids should be')\n",
    "print('   [ 2.428301 3.157924 ]')\n",
    "print('   [ 5.813503 2.633656 ]')\n",
    "print('   [ 7.119387 3.616684 ]')"
   ]
  },
  {
   "cell_type": "markdown",
   "metadata": {},
   "source": [
    "## <font color='black'>Exercise 2: K-means clustering with scikit-learn</font>\n",
    "\n",
    "---"
   ]
  },
  {
   "cell_type": "markdown",
   "metadata": {},
   "source": [
    "The objective of this exercise is to present the use of the functionalities of scikit-learn concerning the automatic classification with k-means, as well as to contribute to a better understanding of this method and the impact on the results of the distribution data or initialization technique (random initialization or k-means++)."
   ]
  },
  {
   "cell_type": "markdown",
   "metadata": {},
   "source": [
    "We start by generating five groups of 100 vectors each in 3D space, each following a normal distribution (with zero mean and unit variance). We apply to each group a different translation in space, generate the group labels, build the total data set and then shuffle the rows of this set:"
   ]
  },
  {
   "cell_type": "code",
   "execution_count": 2,
   "metadata": {},
   "outputs": [
    {
     "name": "stdout",
     "output_type": "stream",
     "text": [
      "(500, 3)\n"
     ]
    }
   ],
   "source": [
    "import numpy as np    \n",
    "from sklearn.utils import shuffle\n",
    "\n",
    "# generation of 100 3D points according to the centered normal law\n",
    "# each group is translated by a vector [3,3,3]\n",
    "d1 = np.random.randn(100,3) + [3,3,3]\n",
    "d2 = np.random.randn(100,3) + [-3,-3,-3]\n",
    "d3 = np.random.randn(100,3) + [-3,3,3]\n",
    "d4 = np.random.randn(100,3) + [-3,-3,3]\n",
    "d5 = np.random.randn(100,3) + [3,3,-3]\n",
    "\n",
    "# generate labels for each group\n",
    "c1 = np.ones(100)\n",
    "c2 = 2 * np.ones(100)\n",
    "c3 = 3 * np.ones(100)\n",
    "c4 = 4 * np.ones(100)\n",
    "c5 = 5 * np.ones(100)\n",
    "\n",
    "# concatenation of data in a matrix\n",
    "data = np.concatenate((d1,d2,d3,d4,d5))\n",
    "labels = np.concatenate((c1, c2, c3, c4, c5))\n",
    "print(data.shape)\n",
    "# random permutation of the rows of the matrix data\n",
    "data, labels = shuffle(data, labels)"
   ]
  },
  {
   "cell_type": "markdown",
   "metadata": {},
   "source": [
    "We visualize the the data."
   ]
  },
  {
   "cell_type": "code",
   "execution_count": 3,
   "metadata": {},
   "outputs": [
    {
     "data": {
      "image/png": "[encoded data removed]",
      "text/plain": [
       "<Figure size 432x288 with 1 Axes>"
      ]
     },
     "metadata": {
      "needs_background": "light"
     },
     "output_type": "display_data"
    }
   ],
   "source": [
    "import matplotlib.pyplot as plt\n",
    "from mpl_toolkits.mplot3d import Axes3D\n",
    "fig = plt.figure()\n",
    "ax = fig.add_subplot(111, projection='3d')\n",
    "# La couleur des points dépend de leur étiquette (label)\n",
    "ax.scatter(data[:,0], data[:,1], data[:,2], c=labels)\n",
    "plt.show()"
   ]
  },
  {
   "cell_type": "markdown",
   "metadata": {},
   "source": [
    "Apply now K-means, first with a single trial (a single initialization followed by a single execution of K-means, n_init = 1) using the k-means++ initialization method."
   ]
  },
  {
   "cell_type": "code",
   "execution_count": null,
   "metadata": {},
   "outputs": [],
   "source": [
    "# ====================== YOUR CODE HERE ======================\n",
    "\n",
    "    \n",
    "    \n",
    "    \n",
    "    \n",
    "# ============================================================="
   ]
  },
  {
   "cell_type": "markdown",
   "metadata": {},
   "source": [
    "Get the predicted groups for the data using. Groups associated with training examples are also stored in the `kmeans.labels_` attribute."
   ]
  },
  {
   "cell_type": "code",
   "execution_count": null,
   "metadata": {},
   "outputs": [],
   "source": [
    "# ====================== YOUR CODE HERE ======================\n",
    "\n",
    "    \n",
    "    \n",
    "    \n",
    "    \n",
    "# ============================================================="
   ]
  },
  {
   "cell_type": "markdown",
   "metadata": {},
   "source": [
    "Plot the results of this clustering."
   ]
  },
  {
   "cell_type": "code",
   "execution_count": null,
   "metadata": {},
   "outputs": [],
   "source": [
    "# ====================== YOUR CODE HERE ======================\n",
    "\n",
    "    \n",
    "    \n",
    "    \n",
    "    \n",
    "# ============================================================="
   ]
  },
  {
   "cell_type": "markdown",
   "metadata": {},
   "source": [
    "Evaluate the consistency between the initial data and the clusters found by K-means using the `adjusted_rand_score`."
   ]
  },
  {
   "cell_type": "code",
   "execution_count": null,
   "metadata": {},
   "outputs": [],
   "source": [
    "# ====================== YOUR CODE HERE ======================\n",
    "\n",
    "    \n",
    "    \n",
    "    \n",
    "    \n",
    "# ============================================================="
   ]
  },
  {
   "cell_type": "markdown",
   "metadata": {},
   "source": [
    "### Questions:\n",
    "\n",
    "1. Repeat the clustering several times with each of these two initialization methods and each time examine the consistency of the groups obtained with the starting groups. What do you notice? Explain."
   ]
  },
  {
   "cell_type": "markdown",
   "metadata": {},
   "source": [
    "2. Vary the number of clusters (n_clusters) and re-examine the stability of the results using the `adjusted_rand_score`. Explain what you see."
   ]
  },
  {
   "cell_type": "markdown",
   "metadata": {},
   "source": [
    "## <font color='black'>Exercise 3: Clustering with GMM</font>\n",
    "\n",
    "---"
   ]
  },
  {
   "cell_type": "code",
   "execution_count": null,
   "metadata": {},
   "outputs": [],
   "source": [
    "from sklearn.cluster import KMeans\n",
    "data=\n",
    "kmeans = KMeans(n_clusters=4)\n",
    "kmeans.fit(data)\n",
    "\n",
    "#predictions from kmeans\n",
    "pred = kmeans.predict(data)\n",
    "frame = pd.DataFrame(data)\n",
    "frame['cluster'] = pred\n",
    "frame.columns = ['Weight', 'Height', 'cluster']\n",
    "\n",
    "#plotting results\n",
    "color=['blue','green','cyan', 'black']\n",
    "for k in range(0,4):\n",
    "    data = frame[frame[\"cluster\"]==k]\n",
    "    plt.scatter(data[\"Weight\"],data[\"Height\"],c=color[k])\n",
    "plt.show()"
   ]
  }
 ],
 "metadata": {
  "kernelspec": {
   "display_name": "Python 3",
   "language": "python",
   "name": "python3"
  },
  "language_info": {
   "codemirror_mode": {
    "name": "ipython",
    "version": 3
   },
   "file_extension": ".py",
   "mimetype": "text/x-python",
   "name": "python",
   "nbconvert_exporter": "python",
   "pygments_lexer": "ipython3",
   "version": "3.7.6"
  }
 },
 "nbformat": 4,
 "nbformat_minor": 4
}
